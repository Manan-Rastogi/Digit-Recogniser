{
 "cells": [
  {
   "cell_type": "code",
   "execution_count": 1,
   "metadata": {},
   "outputs": [],
   "source": [
    "import numpy as np\n",
    "import pandas as pd\n",
    "import matplotlib.pyplot as plt\n",
    "import seaborn as sns\n",
    "import cv2\n",
    "# sns.set()"
   ]
  },
  {
   "cell_type": "code",
   "execution_count": 2,
   "metadata": {},
   "outputs": [
    {
     "name": "stdout",
     "output_type": "stream",
     "text": [
      "['.ipynb_checkpoints', '0.jpg', '0.png', '1.jfif', '1.jpg', '2.jpg', '23.jpg', '3.jpg', '4.jpg', '5.jfif', '5.jpg', '6.jpg', '7.jpg', '8.jpg', '8s.jpg', '9.jfif', '9.jpg', '9.png', 'accu_80p.model', 'accu_90p.model', 'convt.py', 'DigitRecog.py', 'H6.png', 'H765.jpg', 'handwritten5.jpg', 'manan.ipynb', 'nos.jpg', 'Ph.jpg', 'test.csv', 'train.csv', 'try.py', 'updated.jpg', 'updated.png']\n"
     ]
    }
   ],
   "source": [
    "import os\n",
    "print(os.listdir())"
   ]
  },
  {
   "cell_type": "code",
   "execution_count": 3,
   "metadata": {},
   "outputs": [],
   "source": [
    "train_data = pd.read_csv('train.csv')\n",
    "test_data = pd.read_csv('test.csv')"
   ]
  },
  {
   "cell_type": "code",
   "execution_count": 4,
   "metadata": {},
   "outputs": [],
   "source": [
    "X_train = train_data.iloc[:,1:].values\n",
    "y_train = train_data.iloc[:,0].values"
   ]
  },
  {
   "cell_type": "code",
   "execution_count": 5,
   "metadata": {
    "scrolled": true
   },
   "outputs": [
    {
     "name": "stdout",
     "output_type": "stream",
     "text": [
      "0      0\n",
      "1      0\n",
      "2      0\n",
      "3      0\n",
      "4      0\n",
      "5      0\n",
      "6      0\n",
      "7      0\n",
      "8      0\n",
      "9      0\n",
      "10     0\n",
      "11     0\n",
      "12     0\n",
      "13     0\n",
      "14     0\n",
      "15     0\n",
      "16     0\n",
      "17     0\n",
      "18     0\n",
      "19     0\n",
      "20     0\n",
      "21     0\n",
      "22     0\n",
      "23     0\n",
      "24     0\n",
      "25     0\n",
      "26     0\n",
      "27     0\n",
      "28     0\n",
      "29     0\n",
      "      ..\n",
      "754    0\n",
      "755    0\n",
      "756    0\n",
      "757    0\n",
      "758    0\n",
      "759    0\n",
      "760    0\n",
      "761    0\n",
      "762    0\n",
      "763    0\n",
      "764    0\n",
      "765    0\n",
      "766    0\n",
      "767    0\n",
      "768    0\n",
      "769    0\n",
      "770    0\n",
      "771    0\n",
      "772    0\n",
      "773    0\n",
      "774    0\n",
      "775    0\n",
      "776    0\n",
      "777    0\n",
      "778    0\n",
      "779    0\n",
      "780    0\n",
      "781    0\n",
      "782    0\n",
      "783    0\n",
      "Length: 784, dtype: int64\n",
      "pixel0      0\n",
      "pixel1      0\n",
      "pixel2      0\n",
      "pixel3      0\n",
      "pixel4      0\n",
      "pixel5      0\n",
      "pixel6      0\n",
      "pixel7      0\n",
      "pixel8      0\n",
      "pixel9      0\n",
      "pixel10     0\n",
      "pixel11     0\n",
      "pixel12     0\n",
      "pixel13     0\n",
      "pixel14     0\n",
      "pixel15     0\n",
      "pixel16     0\n",
      "pixel17     0\n",
      "pixel18     0\n",
      "pixel19     0\n",
      "pixel20     0\n",
      "pixel21     0\n",
      "pixel22     0\n",
      "pixel23     0\n",
      "pixel24     0\n",
      "pixel25     0\n",
      "pixel26     0\n",
      "pixel27     0\n",
      "pixel28     0\n",
      "pixel29     0\n",
      "           ..\n",
      "pixel754    0\n",
      "pixel755    0\n",
      "pixel756    0\n",
      "pixel757    0\n",
      "pixel758    0\n",
      "pixel759    0\n",
      "pixel760    0\n",
      "pixel761    0\n",
      "pixel762    0\n",
      "pixel763    0\n",
      "pixel764    0\n",
      "pixel765    0\n",
      "pixel766    0\n",
      "pixel767    0\n",
      "pixel768    0\n",
      "pixel769    0\n",
      "pixel770    0\n",
      "pixel771    0\n",
      "pixel772    0\n",
      "pixel773    0\n",
      "pixel774    0\n",
      "pixel775    0\n",
      "pixel776    0\n",
      "pixel777    0\n",
      "pixel778    0\n",
      "pixel779    0\n",
      "pixel780    0\n",
      "pixel781    0\n",
      "pixel782    0\n",
      "pixel783    0\n",
      "Length: 784, dtype: int64\n"
     ]
    }
   ],
   "source": [
    "print(pd.DataFrame(X_train).isna().sum())\n",
    "print(test_data.isna().sum())"
   ]
  },
  {
   "cell_type": "code",
   "execution_count": 6,
   "metadata": {},
   "outputs": [
    {
     "data": {
      "text/plain": [
       "<matplotlib.axes._subplots.AxesSubplot at 0x1c8d4a505f8>"
      ]
     },
     "execution_count": 6,
     "metadata": {},
     "output_type": "execute_result"
    },
    {
     "data": {
      "image/png": "[encoded data removed]",
      "text/plain": [
       "<Figure size 432x288 with 1 Axes>"
      ]
     },
     "metadata": {
      "needs_background": "light"
     },
     "output_type": "display_data"
    }
   ],
   "source": [
    "sns.countplot(y_train)"
   ]
  },
  {
   "cell_type": "code",
   "execution_count": 7,
   "metadata": {},
   "outputs": [],
   "source": [
    "X_train = X_train/255.0\n",
    "test_data = test_data/255.0"
   ]
  },
  {
   "cell_type": "code",
   "execution_count": 8,
   "metadata": {},
   "outputs": [],
   "source": [
    "X_train = X_train.reshape(-1,28,28,1)\n",
    "test_data = test_data.values.reshape(-1,28,28,1)"
   ]
  },
  {
   "cell_type": "code",
   "execution_count": null,
   "metadata": {},
   "outputs": [],
   "source": [
    "# for i in X_train:\n",
    "#     cv2.imshow('img', i)\n",
    "#     if cv2.waitKey(250):\n",
    "#         cv2.destroyAllWindows()"
   ]
  },
  {
   "cell_type": "code",
   "execution_count": 9,
   "metadata": {},
   "outputs": [
    {
     "data": {
      "image/png": "[encoded data removed]",
      "text/plain": [
       "<Figure size 432x288 with 1 Axes>"
      ]
     },
     "metadata": {
      "needs_background": "light"
     },
     "output_type": "display_data"
    }
   ],
   "source": [
    "plt.imshow(X_train[11045].reshape(28, 28))\n",
    "plt.show()"
   ]
  },
  {
   "cell_type": "code",
   "execution_count": 10,
   "metadata": {},
   "outputs": [
    {
     "name": "stderr",
     "output_type": "stream",
     "text": [
      "Using TensorFlow backend.\n"
     ]
    }
   ],
   "source": [
    "from keras.utils.np_utils import to_categorical\n",
    "y_train = to_categorical(y_train,num_classes=10)   "
   ]
  },
  {
   "cell_type": "code",
   "execution_count": 11,
   "metadata": {},
   "outputs": [],
   "source": [
    "from sklearn.model_selection import train_test_split\n",
    "X_train, X_test, y_train, y_test = train_test_split(X_train, y_train, test_size=0.25, random_state=2)"
   ]
  },
  {
   "cell_type": "code",
   "execution_count": 12,
   "metadata": {
    "scrolled": false
   },
   "outputs": [
    {
     "data": {
      "image/png": "[encoded data removed]",
      "text/plain": [
       "<Figure size 432x288 with 1 Axes>"
      ]
     },
     "metadata": {
      "needs_background": "light"
     },
     "output_type": "display_data"
    }
   ],
   "source": [
    "plt.imshow(X_train[108].reshape(28, 28))\n",
    "plt.show()"
   ]
  },
  {
   "cell_type": "code",
   "execution_count": 13,
   "metadata": {},
   "outputs": [
    {
     "data": {
      "image/png": "[encoded data removed]",
      "text/plain": [
       "<Figure size 432x288 with 1 Axes>"
      ]
     },
     "metadata": {
      "needs_background": "light"
     },
     "output_type": "display_data"
    }
   ],
   "source": [
    "plt.imshow(1-X_train[108].reshape(28, 28))\n",
    "plt.show()"
   ]
  },
  {
   "cell_type": "code",
   "execution_count": 14,
   "metadata": {},
   "outputs": [],
   "source": [
    "X_train2 = 1 - X_train\n",
    "X_test2 = 1 - X_test"
   ]
  },
  {
   "cell_type": "code",
   "execution_count": 15,
   "metadata": {},
   "outputs": [],
   "source": [
    "X_train = np.concatenate((X_train,X_train2),axis = 0)\n",
    "y_train = np.concatenate((y_train,y_train),axis=0)\n",
    "X_test = np.concatenate((X_test,X_test2),axis = 0)\n",
    "y_test =  np.concatenate((y_test,y_test),axis = 0)"
   ]
  },
  {
   "cell_type": "code",
   "execution_count": 16,
   "metadata": {},
   "outputs": [],
   "source": [
    "from sklearn.neighbors import KNeighborsRegressor\n",
    "from sklearn.linear_model import LinearRegression\n",
    "from sklearn.model_selection import train_test_split\n",
    "from joblib import dump, load\n",
    "from sklearn.preprocessing import StandardScaler\n",
    "# import numpy as np"
   ]
  },
  {
   "cell_type": "code",
   "execution_count": 17,
   "metadata": {},
   "outputs": [],
   "source": [
    "from keras.models import Sequential\n",
    "from keras.layers import Dense\n",
    "from keras.layers.convolutional import Conv2D\n",
    "from keras.layers import MaxPool2D\n",
    "from keras.layers import Flatten"
   ]
  },
  {
   "cell_type": "code",
   "execution_count": 18,
   "metadata": {},
   "outputs": [
    {
     "name": "stderr",
     "output_type": "stream",
     "text": [
      "WARNING: Logging before flag parsing goes to stderr.\n",
      "W1121 13:29:48.703521 15292 deprecation_wrapper.py:119] From C:\\Users\\Acer\\Anaconda3\\lib\\site-packages\\keras\\backend\\tensorflow_backend.py:74: The name tf.get_default_graph is deprecated. Please use tf.compat.v1.get_default_graph instead.\n",
      "\n",
      "W1121 13:29:49.052638 15292 deprecation_wrapper.py:119] From C:\\Users\\Acer\\Anaconda3\\lib\\site-packages\\keras\\backend\\tensorflow_backend.py:517: The name tf.placeholder is deprecated. Please use tf.compat.v1.placeholder instead.\n",
      "\n",
      "W1121 13:29:49.239130 15292 deprecation_wrapper.py:119] From C:\\Users\\Acer\\Anaconda3\\lib\\site-packages\\keras\\backend\\tensorflow_backend.py:4138: The name tf.random_uniform is deprecated. Please use tf.random.uniform instead.\n",
      "\n",
      "W1121 13:29:49.322905 15292 deprecation_wrapper.py:119] From C:\\Users\\Acer\\Anaconda3\\lib\\site-packages\\keras\\backend\\tensorflow_backend.py:3976: The name tf.nn.max_pool is deprecated. Please use tf.nn.max_pool2d instead.\n",
      "\n",
      "W1121 13:29:49.492453 15292 deprecation_wrapper.py:119] From C:\\Users\\Acer\\Anaconda3\\lib\\site-packages\\keras\\optimizers.py:790: The name tf.train.Optimizer is deprecated. Please use tf.compat.v1.train.Optimizer instead.\n",
      "\n",
      "W1121 13:29:49.533341 15292 deprecation_wrapper.py:119] From C:\\Users\\Acer\\Anaconda3\\lib\\site-packages\\keras\\backend\\tensorflow_backend.py:3295: The name tf.log is deprecated. Please use tf.math.log instead.\n",
      "\n"
     ]
    }
   ],
   "source": [
    "classifier = Sequential()\n",
    "\n",
    "classifier.add(Conv2D(filters = 32,kernel_size = (3, 3),input_shape = (28,28,1),activation = 'relu',padding='same'))\n",
    "\n",
    "classifier.add(MaxPool2D((2,2)))\n",
    "\n",
    "\n",
    "classifier.add(Conv2D(filters = 64,kernel_size = (3,3),activation = 'relu',padding='same'))\n",
    "\n",
    "classifier.add(MaxPool2D(2,2))\n",
    "\n",
    "classifier.add(Conv2D(filters = 64,kernel_size = (3,3),activation = 'relu',padding='same'))\n",
    "\n",
    "classifier.add(MaxPool2D(2,2))\n",
    "\n",
    "classifier.add(Flatten())\n",
    "\n",
    "classifier.add(Dense(units = 64,activation='relu'))\n",
    "classifier.add(Dense(units = 10,activation='softmax'))\n",
    "classifier.compile(optimizer='adam',loss='categorical_crossentropy',metrics=['accuracy'])"
   ]
  },
  {
   "cell_type": "code",
   "execution_count": null,
   "metadata": {},
   "outputs": [],
   "source": [
    "# classifier = keras_model1(28, 28, 10)"
   ]
  },
  {
   "cell_type": "code",
   "execution_count": 19,
   "metadata": {},
   "outputs": [
    {
     "name": "stdout",
     "output_type": "stream",
     "text": [
      "_________________________________________________________________\n",
      "Layer (type)                 Output Shape              Param #   \n",
      "=================================================================\n",
      "conv2d_1 (Conv2D)            (None, 28, 28, 32)        320       \n",
      "_________________________________________________________________\n",
      "max_pooling2d_1 (MaxPooling2 (None, 14, 14, 32)        0         \n",
      "_________________________________________________________________\n",
      "conv2d_2 (Conv2D)            (None, 14, 14, 64)        18496     \n",
      "_________________________________________________________________\n",
      "max_pooling2d_2 (MaxPooling2 (None, 7, 7, 64)          0         \n",
      "_________________________________________________________________\n",
      "conv2d_3 (Conv2D)            (None, 7, 7, 64)          36928     \n",
      "_________________________________________________________________\n",
      "max_pooling2d_3 (MaxPooling2 (None, 3, 3, 64)          0         \n",
      "_________________________________________________________________\n",
      "flatten_1 (Flatten)          (None, 576)               0         \n",
      "_________________________________________________________________\n",
      "dense_1 (Dense)              (None, 64)                36928     \n",
      "_________________________________________________________________\n",
      "dense_2 (Dense)              (None, 10)                650       \n",
      "=================================================================\n",
      "Total params: 93,322\n",
      "Trainable params: 93,322\n",
      "Non-trainable params: 0\n",
      "_________________________________________________________________\n"
     ]
    }
   ],
   "source": [
    "classifier.summary()"
   ]
  },
  {
   "cell_type": "code",
   "execution_count": 20,
   "metadata": {},
   "outputs": [
    {
     "name": "stderr",
     "output_type": "stream",
     "text": [
      "W1121 13:30:00.992517 15292 deprecation.py:323] From C:\\Users\\Acer\\Anaconda3\\lib\\site-packages\\tensorflow\\python\\ops\\math_grad.py:1250: add_dispatch_support.<locals>.wrapper (from tensorflow.python.ops.array_ops) is deprecated and will be removed in a future version.\n",
      "Instructions for updating:\n",
      "Use tf.where in 2.0, which has the same broadcast rule as np.where\n",
      "W1121 13:30:01.176031 15292 deprecation_wrapper.py:119] From C:\\Users\\Acer\\Anaconda3\\lib\\site-packages\\keras\\backend\\tensorflow_backend.py:986: The name tf.assign_add is deprecated. Please use tf.compat.v1.assign_add instead.\n",
      "\n"
     ]
    },
    {
     "name": "stdout",
     "output_type": "stream",
     "text": [
      "Train on 63000 samples, validate on 21000 samples\n",
      "Epoch 1/10\n",
      "63000/63000 [==============================] - 76s 1ms/step - loss: 0.2914 - acc: 0.9084 - val_loss: 0.0780 - val_acc: 0.9751\n",
      "Epoch 2/10\n",
      "63000/63000 [==============================] - 75s 1ms/step - loss: 0.0672 - acc: 0.9787 - val_loss: 0.0564 - val_acc: 0.9823\n",
      "Epoch 3/10\n",
      "63000/63000 [==============================] - 76s 1ms/step - loss: 0.0467 - acc: 0.9851 - val_loss: 0.0543 - val_acc: 0.9826\n",
      "Epoch 4/10\n",
      "63000/63000 [==============================] - 75s 1ms/step - loss: 0.0389 - acc: 0.9881 - val_loss: 0.0620 - val_acc: 0.9812\n",
      "Epoch 5/10\n",
      "63000/63000 [==============================] - 75s 1ms/step - loss: 0.0304 - acc: 0.9903 - val_loss: 0.0388 - val_acc: 0.9882\n",
      "Epoch 6/10\n",
      "63000/63000 [==============================] - 75s 1ms/step - loss: 0.0252 - acc: 0.9919 - val_loss: 0.0438 - val_acc: 0.9864\n",
      "Epoch 7/10\n",
      "63000/63000 [==============================] - 75s 1ms/step - loss: 0.0216 - acc: 0.9930 - val_loss: 0.0470 - val_acc: 0.9858\n",
      "Epoch 8/10\n",
      "63000/63000 [==============================] - 75s 1ms/step - loss: 0.0182 - acc: 0.9939 - val_loss: 0.0619 - val_acc: 0.9834\n",
      "Epoch 9/10\n",
      "63000/63000 [==============================] - 75s 1ms/step - loss: 0.0153 - acc: 0.9950 - val_loss: 0.0471 - val_acc: 0.9868\n",
      "Epoch 10/10\n",
      "63000/63000 [==============================] - 75s 1ms/step - loss: 0.0136 - acc: 0.9954 - val_loss: 0.0492 - val_acc: 0.9870\n"
     ]
    },
    {
     "data": {
      "text/plain": [
       "<keras.callbacks.History at 0x1c883da67f0>"
      ]
     },
     "execution_count": 20,
     "metadata": {},
     "output_type": "execute_result"
    }
   ],
   "source": [
    "classifier.fit(X_train,y_train,batch_size = 100,epochs=10,validation_data=(X_test,y_test)) "
   ]
  },
  {
   "cell_type": "code",
   "execution_count": null,
   "metadata": {},
   "outputs": [],
   "source": [
    "# def train_speedometer(x_train, y_train):\n",
    "# #     x_train, x_test, y_train, y_test = train_test_split(x, y, test_size=0.2, shuffle=True)\n",
    "#     all=[]\n",
    "#     for i in range(1, 10):\n",
    "#         model = KNeighborsRegressor(n_neighbors=i)\n",
    "#         print(model.fit(x_train, y_train))\n",
    "#         print('train_scr: ',model.score(x_train, y_train))\n",
    "#         scr=model.score(x_test, y_test)\n",
    "#         print('test_scr: ', scr)\n",
    "#         all.append(model)\n",
    "#     return max(all)"
   ]
  },
  {
   "cell_type": "code",
   "execution_count": 21,
   "metadata": {},
   "outputs": [
    {
     "data": {
      "text/plain": [
       "(63000, 28, 28, 1)"
      ]
     },
     "execution_count": 21,
     "metadata": {},
     "output_type": "execute_result"
    }
   ],
   "source": [
    "X_train.shape"
   ]
  },
  {
   "cell_type": "code",
   "execution_count": 22,
   "metadata": {},
   "outputs": [
    {
     "ename": "NameError",
     "evalue": "name 'train_speedometer' is not defined",
     "output_type": "error",
     "traceback": [
      "\u001b[1;31m---------------------------------------------------------------------------\u001b[0m",
      "\u001b[1;31mNameError\u001b[0m                                 Traceback (most recent call last)",
      "\u001b[1;32m<ipython-input-22-1724bec4293d>\u001b[0m in \u001b[0;36m<module>\u001b[1;34m\u001b[0m\n\u001b[1;32m----> 1\u001b[1;33m \u001b[0mclassifier\u001b[0m \u001b[1;33m=\u001b[0m \u001b[0mtrain_speedometer\u001b[0m\u001b[1;33m(\u001b[0m\u001b[0mX_train\u001b[0m\u001b[1;33m.\u001b[0m\u001b[0mreshape\u001b[0m\u001b[1;33m(\u001b[0m\u001b[1;33m-\u001b[0m\u001b[1;36m1\u001b[0m\u001b[1;33m,\u001b[0m \u001b[1;36m784\u001b[0m\u001b[1;33m)\u001b[0m\u001b[1;33m,\u001b[0m \u001b[0my_train\u001b[0m\u001b[1;33m)\u001b[0m\u001b[1;33m\u001b[0m\u001b[1;33m\u001b[0m\u001b[0m\n\u001b[0m",
      "\u001b[1;31mNameError\u001b[0m: name 'train_speedometer' is not defined"
     ]
    }
   ],
   "source": [
    "#classifier = train_speedometer(X_train.reshape(-1, 784), y_train)"
   ]
  },
  {
   "cell_type": "code",
   "execution_count": 23,
   "metadata": {},
   "outputs": [],
   "source": [
    "result = classifier.predict(test_data)"
   ]
  },
  {
   "cell_type": "code",
   "execution_count": 25,
   "metadata": {},
   "outputs": [
    {
     "name": "stdout",
     "output_type": "stream",
     "text": [
      "[2 0 9 ... 3 9 2]\n"
     ]
    }
   ],
   "source": [
    "results = np.argmax(result,axis = 1)\n",
    "print(results)"
   ]
  },
  {
   "cell_type": "code",
   "execution_count": 26,
   "metadata": {},
   "outputs": [],
   "source": [
    "from PIL import Image\n",
    "im = Image.open('handwritten5.jpg')\n",
    "im = im.resize((28,28))\n",
    "im.save('updated.png')"
   ]
  },
  {
   "cell_type": "code",
   "execution_count": 27,
   "metadata": {},
   "outputs": [],
   "source": [
    "im = cv2.imread('updated.png', 0)/255.0\n",
    "im2 = np.round(im, 0)\n",
    "# for i in range(28):\n",
    "#     for j in range(28):\n",
    "#         im[i][j] = round(im[i][j],0) # only binary value why?\n",
    "# cv2.imshow('image',im)\n",
    "# cv2.waitKey(0)\n",
    "# cv2.destroyAllWindows()"
   ]
  },
  {
   "cell_type": "code",
   "execution_count": null,
   "metadata": {},
   "outputs": [],
   "source": [
    "# im2"
   ]
  },
  {
   "cell_type": "code",
   "execution_count": 28,
   "metadata": {},
   "outputs": [
    {
     "data": {
      "image/png": "[encoded data removed]",
      "text/plain": [
       "<Figure size 432x288 with 1 Axes>"
      ]
     },
     "metadata": {
      "needs_background": "light"
     },
     "output_type": "display_data"
    }
   ],
   "source": [
    "plt.imshow(1-im)\n",
    "plt.show()"
   ]
  },
  {
   "cell_type": "code",
   "execution_count": 29,
   "metadata": {},
   "outputs": [
    {
     "data": {
      "image/png": "[encoded data removed]",
      "text/plain": [
       "<Figure size 432x288 with 1 Axes>"
      ]
     },
     "metadata": {
      "needs_background": "light"
     },
     "output_type": "display_data"
    }
   ],
   "source": [
    "plt.imshow(1-im2)\n",
    "plt.show()"
   ]
  },
  {
   "cell_type": "code",
   "execution_count": 30,
   "metadata": {},
   "outputs": [
    {
     "name": "stdout",
     "output_type": "stream",
     "text": [
      "[[3.8681460e-08 4.3014210e-09 4.9766248e-07 1.9009866e-02 2.1495421e-06\n",
      "  8.9511627e-01 1.4119759e-05 3.1535054e-04 7.8701746e-04 8.4754691e-02]] [5]\n"
     ]
    }
   ],
   "source": [
    "OP = classifier.predict(1-im2.reshape(1, 28, 28, 1))\n",
    "op = np.argmax(OP,axis = 1)\n",
    "print(OP, op)"
   ]
  },
  {
   "cell_type": "code",
   "execution_count": 72,
   "metadata": {},
   "outputs": [
    {
     "data": {
      "image/png": "[encoded data removed]",
      "text/plain": [
       "<PIL.PngImagePlugin.PngImageFile image mode=RGBA size=262x62 at 0x1C8856B22E8>"
      ]
     },
     "execution_count": 72,
     "metadata": {},
     "output_type": "execute_result"
    }
   ],
   "source": [
    "im = Image.open('ph.jpg')\n",
    "im"
   ]
  },
  {
   "cell_type": "code",
   "execution_count": 73,
   "metadata": {},
   "outputs": [
    {
     "data": {
      "text/plain": [
       "(62, 262, 4)"
      ]
     },
     "execution_count": 73,
     "metadata": {},
     "output_type": "execute_result"
    }
   ],
   "source": [
    "np.array(im).shape"
   ]
  },
  {
   "cell_type": "code",
   "execution_count": 74,
   "metadata": {},
   "outputs": [],
   "source": [
    "im = im.resize((560,56))\n",
    "im.save('updated.png')"
   ]
  },
  {
   "cell_type": "code",
   "execution_count": 75,
   "metadata": {},
   "outputs": [],
   "source": [
    "im = cv2.imread('updated.png',0)/255.0\n",
    "# im = Image.open('updated.png')\n",
    "# im"
   ]
  },
  {
   "cell_type": "code",
   "execution_count": 76,
   "metadata": {},
   "outputs": [
    {
     "data": {
      "text/plain": [
       "(56, 560)"
      ]
     },
     "execution_count": 76,
     "metadata": {},
     "output_type": "execute_result"
    }
   ],
   "source": [
    "im.shape"
   ]
  },
  {
   "cell_type": "code",
   "execution_count": 77,
   "metadata": {},
   "outputs": [
    {
     "data": {
      "image/png": "[encoded data removed]",
      "text/plain": [
       "<Figure size 432x288 with 1 Axes>"
      ]
     },
     "metadata": {
      "needs_background": "light"
     },
     "output_type": "display_data"
    }
   ],
   "source": [
    "plt.imshow(im)\n",
    "plt.show()"
   ]
  },
  {
   "cell_type": "code",
   "execution_count": 78,
   "metadata": {},
   "outputs": [
    {
     "data": {
      "image/png": "[encoded data removed]",
      "text/plain": [
       "<Figure size 432x288 with 1 Axes>"
      ]
     },
     "metadata": {
      "needs_background": "light"
     },
     "output_type": "display_data"
    }
   ],
   "source": [
    "im2 = np.round(im, 0)\n",
    "plt.imshow(1-im2)\n",
    "plt.show()"
   ]
  },
  {
   "cell_type": "code",
   "execution_count": 79,
   "metadata": {},
   "outputs": [],
   "source": [
    "list_im = []\n",
    "imlist = []"
   ]
  },
  {
   "cell_type": "code",
   "execution_count": 80,
   "metadata": {},
   "outputs": [],
   "source": [
    "for j in range(560):\n",
    "    if np.all(im[:,j] == 1):\n",
    "        list_im.append(j)\n",
    "\n",
    "if 0 in list_im:  \n",
    "    list_im.remove(0)  \n",
    "    list_im.insert(0,1)\n",
    "    \n",
    "if 559 in list_im:\n",
    "    list_im.remove(559)     \n",
    "\n",
    "k=140\n",
    "while k:\n",
    "    for j in list_im:\n",
    "        if np.all(im[:,j-1] == 1) and np.all(im[:,j+1]==1):\n",
    "            list_im.remove(j)\n",
    "    k=k-1\n",
    "\n",
    "imlist = [0,]\n",
    "\n",
    "\n",
    "for i in range(len(list_im)):\n",
    "    if i==19:\n",
    "        break\n",
    "\n",
    "    if i%2 != 0:\n",
    "        imlist.append(int((list_im[i] + list_im[i+1])/2))\n",
    "\n",
    "list_im = []\n",
    "imlist.append(559)"
   ]
  },
  {
   "cell_type": "code",
   "execution_count": 81,
   "metadata": {},
   "outputs": [],
   "source": [
    "for j in range(len(imlist)):\n",
    "    if j==10:\n",
    "        break        \n",
    "    img = im[:,imlist[j]:imlist[j+1]]\n",
    "    list_im.append(img)"
   ]
  },
  {
   "cell_type": "code",
   "execution_count": 82,
   "metadata": {
    "scrolled": true
   },
   "outputs": [
    {
     "data": {
      "image/png": "[encoded data removed]",
      "text/plain": [
       "<Figure size 432x288 with 1 Axes>"
      ]
     },
     "metadata": {
      "needs_background": "light"
     },
     "output_type": "display_data"
    }
   ],
   "source": [
    "t=Image.fromarray(list_im[5]).resize((28, 28))\n",
    "t=np.array(t)\n",
    "plt.imshow(1-t)\n",
    "plt.show()"
   ]
  },
  {
   "cell_type": "code",
   "execution_count": 83,
   "metadata": {},
   "outputs": [],
   "source": [
    "x=np.zeros( (len(list_im), 28, 28, 1) )"
   ]
  },
  {
   "cell_type": "code",
   "execution_count": 84,
   "metadata": {},
   "outputs": [],
   "source": [
    "PhoneNo = []\n",
    "for i in range(len(list_im)):              \n",
    "    img = Image.fromarray(list_im[i])   \n",
    "    img = img.resize((28,28))\n",
    "    img = np.array(img)\n",
    "    img = img.reshape(1, 28,28,1)\n",
    "    x[i, :, :] = 1-img\n",
    "OP = classifier.predict(x)  \n",
    "op = np.argmax(OP,axis = 1)    \n",
    "# PhoneNo=op"
   ]
  },
  {
   "cell_type": "code",
   "execution_count": 85,
   "metadata": {},
   "outputs": [
    {
     "data": {
      "text/plain": [
       "array([4.2218827e-13, 1.3008132e-07, 1.6822845e-05, 9.0080523e-01,\n",
       "       3.1098947e-16, 7.7154240e-08, 2.3822245e-13, 9.9168129e-02,\n",
       "       9.6043823e-06, 3.3814050e-08], dtype=float32)"
      ]
     },
     "execution_count": 85,
     "metadata": {},
     "output_type": "execute_result"
    }
   ],
   "source": [
    "OP[5]"
   ]
  },
  {
   "cell_type": "code",
   "execution_count": 86,
   "metadata": {},
   "outputs": [
    {
     "data": {
      "text/plain": [
       "array([8, 7, 9, 3, 5, 3, 3, 7, 3, 9], dtype=int64)"
      ]
     },
     "execution_count": 86,
     "metadata": {},
     "output_type": "execute_result"
    }
   ],
   "source": [
    "op"
   ]
  },
  {
   "cell_type": "code",
   "execution_count": 63,
   "metadata": {},
   "outputs": [],
   "source": [
    "from sklearn.metrics import classification_report, confusion_matrix\n",
    "from sklearn.externals import joblib "
   ]
  },
  {
   "cell_type": "code",
   "execution_count": 64,
   "metadata": {},
   "outputs": [],
   "source": [
    "# joblib.dump(classifier, )"
   ]
  },
  {
   "cell_type": "code",
   "execution_count": 65,
   "metadata": {},
   "outputs": [],
   "source": [
    "classifier = joblib.load('accu_90p.model')"
   ]
  },
  {
   "cell_type": "code",
   "execution_count": 66,
   "metadata": {},
   "outputs": [
    {
     "name": "stdout",
     "output_type": "stream",
     "text": [
      "              precision    recall  f1-score   support\n",
      "\n",
      "           0       0.93      0.51      0.66      2060\n",
      "           1       0.96      0.69      0.80      2448\n",
      "           2       0.28      0.85      0.43      2062\n",
      "           3       0.34      0.72      0.46      2152\n",
      "           4       1.00      0.49      0.66      2106\n",
      "           5       0.75      0.87      0.80      1868\n",
      "           6       0.97      0.50      0.66      2058\n",
      "           7       0.99      0.49      0.66      2178\n",
      "           8       0.99      0.49      0.66      1978\n",
      "           9       0.96      0.49      0.65      2090\n",
      "\n",
      "    accuracy                           0.61     21000\n",
      "   macro avg       0.82      0.61      0.64     21000\n",
      "weighted avg       0.82      0.61      0.64     21000\n",
      "\n"
     ]
    }
   ],
   "source": [
    "print(classification_report(np.argmax(y_test, axis=1), np.argmax(classifier.predict(X_test), axis=1)))"
   ]
  },
  {
   "cell_type": "code",
   "execution_count": 67,
   "metadata": {},
   "outputs": [
    {
     "name": "stdout",
     "output_type": "stream",
     "text": [
      "[[1047    4  191  757    0   44   11    0    0    6]\n",
      " [   1 1678  752   12    0    0    0    3    2    0]\n",
      " [  12    2 1749  237    0   48    0    0    0   14]\n",
      " [   1    0  397 1543    0  209    0    0    2    0]\n",
      " [   1    9  551  487 1030   12    5    0    0   11]\n",
      " [   0    2   78  148    0 1631    8    0    1    0]\n",
      " [  17   13   48  875    0   77 1028    0    0    0]\n",
      " [   2    4 1079   12    0    4    0 1076    0    1]\n",
      " [  29   27  563  294    1   79    3    0  973    9]\n",
      " [  15    2  751  194    4   82    0    8    1 1033]]\n"
     ]
    }
   ],
   "source": [
    "print(confusion_matrix(np.argmax(y_test, axis=1), np.argmax(classifier.predict(X_test), axis=1)))"
   ]
  },
  {
   "cell_type": "code",
   "execution_count": 68,
   "metadata": {},
   "outputs": [],
   "source": [
    "ones_filter = np.where(np.argmax(y_test, axis=1)==1)[0]"
   ]
  },
  {
   "cell_type": "code",
   "execution_count": 69,
   "metadata": {},
   "outputs": [
    {
     "data": {
      "text/plain": [
       "(2448,)"
      ]
     },
     "execution_count": 69,
     "metadata": {},
     "output_type": "execute_result"
    }
   ],
   "source": [
    "ones_filter.shape"
   ]
  },
  {
   "cell_type": "code",
   "execution_count": 70,
   "metadata": {},
   "outputs": [],
   "source": [
    "ones = X_test[ones_filter]"
   ]
  },
  {
   "cell_type": "code",
   "execution_count": 71,
   "metadata": {},
   "outputs": [
    {
     "data": {
      "image/png": "[encoded data removed]",
      "text/plain": [
       "<Figure size 432x288 with 1 Axes>"
      ]
     },
     "metadata": {
      "needs_background": "light"
     },
     "output_type": "display_data"
    }
   ],
   "source": [
    "plt.imshow(ones[12].reshape(28, 28))\n",
    "plt.show()"
   ]
  },
  {
   "cell_type": "code",
   "execution_count": null,
   "metadata": {},
   "outputs": [],
   "source": []
  }
 ],
 "metadata": {
  "kernelspec": {
   "display_name": "Python 3",
   "language": "python",
   "name": "python3"
  },
  "language_info": {
   "codemirror_mode": {
    "name": "ipython",
    "version": 3
   },
   "file_extension": ".py",
   "mimetype": "text/x-python",
   "name": "python",
   "nbconvert_exporter": "python",
   "pygments_lexer": "ipython3",
   "version": "3.7.3"
  }
 },
 "nbformat": 4,
 "nbformat_minor": 2
}
